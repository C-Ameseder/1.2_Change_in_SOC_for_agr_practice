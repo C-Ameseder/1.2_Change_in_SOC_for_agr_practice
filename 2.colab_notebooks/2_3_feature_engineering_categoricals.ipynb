{
  "nbformat": 4,
  "nbformat_minor": 0,
  "metadata": {
    "colab": {
      "name": "2_3_feature_engineering categoricals.ipynb",
      "provenance": []
    },
    "kernelspec": {
      "name": "python3",
      "display_name": "Python 3"
    }
  },
  "cells": [
    {
      "cell_type": "markdown",
      "metadata": {
        "id": "_tBf162UIjD9"
      },
      "source": [
        "## 2.3. feature engeineering categoricals and dealing with missing values"
      ]
    },
    {
      "cell_type": "code",
      "metadata": {
        "id": "yYyx9qhRHGog"
      },
      "source": [
        "import numpy as np\r\n",
        "import pandas as pd\r\n",
        "from sklearn.impute import KNNImputer\r\n",
        "import warnings\r\n",
        "warnings.filterwarnings('ignore')\r\n",
        "pd.set_option('display.max_columns', None)\r\n",
        "pd.set_option('display.max_rows', None)"
      ],
      "execution_count": 307,
      "outputs": []
    },
    {
      "cell_type": "code",
      "metadata": {
        "colab": {
          "base_uri": "https://localhost:8080/",
          "height": 241
        },
        "id": "ec6FS_gqHcrc",
        "outputId": "834dcc36-2ab6-47a5-9697-d018c204cace"
      },
      "source": [
        "data_raw = pd.read_csv('perenials_dataset.csv')\r\n",
        "data_raw.head()"
      ],
      "execution_count": 308,
      "outputs": [
        {
          "output_type": "execute_result",
          "data": {
            "text/html": [
              "<div>\n",
              "<style scoped>\n",
              "    .dataframe tbody tr th:only-of-type {\n",
              "        vertical-align: middle;\n",
              "    }\n",
              "\n",
              "    .dataframe tbody tr th {\n",
              "        vertical-align: top;\n",
              "    }\n",
              "\n",
              "    .dataframe thead th {\n",
              "        text-align: right;\n",
              "    }\n",
              "</style>\n",
              "<table border=\"1\" class=\"dataframe\">\n",
              "  <thead>\n",
              "    <tr style=\"text-align: right;\">\n",
              "      <th></th>\n",
              "      <th>Unnamed: 0</th>\n",
              "      <th>id</th>\n",
              "      <th>idstudy</th>\n",
              "      <th>plotid</th>\n",
              "      <th>country</th>\n",
              "      <th>region</th>\n",
              "      <th>temp_c</th>\n",
              "      <th>precipitation_mm</th>\n",
              "      <th>climate</th>\n",
              "      <th>latitud</th>\n",
              "      <th>longitud</th>\n",
              "      <th>bedrock</th>\n",
              "      <th>soil_type</th>\n",
              "      <th>usda</th>\n",
              "      <th>type_change</th>\n",
              "      <th>crop_current</th>\n",
              "      <th>crop_type</th>\n",
              "      <th>cropage</th>\n",
              "      <th>current_land_use</th>\n",
              "      <th>luc_this_study</th>\n",
              "      <th>previous_land_use</th>\n",
              "      <th>years_since_luc</th>\n",
              "      <th>temporal</th>\n",
              "      <th>timetemporal</th>\n",
              "      <th>change_management</th>\n",
              "      <th>year_since_management_change</th>\n",
              "      <th>soil_treatments</th>\n",
              "      <th>tillageyesno</th>\n",
              "      <th>tillage_type</th>\n",
              "      <th>fertilizeryesno</th>\n",
              "      <th>fet_type</th>\n",
              "      <th>rate_fert</th>\n",
              "      <th>pesticides</th>\n",
              "      <th>org_amendyesno</th>\n",
              "      <th>org_amend_type</th>\n",
              "      <th>prev_man</th>\n",
              "      <th>multiple_sampl</th>\n",
              "      <th>dif_depth_current_point</th>\n",
              "      <th>conti_depth</th>\n",
              "      <th>num_depth</th>\n",
              "      <th>year_measure</th>\n",
              "      <th>n_plots_current</th>\n",
              "      <th>n_sample_per_plot_current</th>\n",
              "      <th>n_measured_current</th>\n",
              "      <th>soil_from_cm_current</th>\n",
              "      <th>soil_to_cm_current</th>\n",
              "      <th>depth_midpoint_current</th>\n",
              "      <th>bulk_density_current</th>\n",
              "      <th>%clay_current</th>\n",
              "      <th>%silt_current</th>\n",
              "      <th>%sand_current</th>\n",
              "      <th>ph_current</th>\n",
              "      <th>soc_g_kg_current</th>\n",
              "      <th>sd_soc_gkg_current</th>\n",
              "      <th>soc_mg_ha_current</th>\n",
              "      <th>sd_soc_mgha_current</th>\n",
              "      <th>n_plots_previous</th>\n",
              "      <th>n_sample_per_plot_previous</th>\n",
              "      <th>n_measured_current.1</th>\n",
              "      <th>soil_from_cm_previous</th>\n",
              "      <th>soil_to_cm_previous</th>\n",
              "      <th>depth_midpoint_previous</th>\n",
              "      <th>bulkdensity_previous</th>\n",
              "      <th>%clay_previous</th>\n",
              "      <th>%silt_previous</th>\n",
              "      <th>%sand_previous</th>\n",
              "      <th>ph_previous</th>\n",
              "      <th>soc_g_kg_previous</th>\n",
              "      <th>sd_soc_gkg_previous</th>\n",
              "      <th>soc_mg_ha_previous</th>\n",
              "      <th>sd_soc_mgha_previous</th>\n",
              "      <th>yearppub</th>\n",
              "    </tr>\n",
              "  </thead>\n",
              "  <tbody>\n",
              "    <tr>\n",
              "      <th>0</th>\n",
              "      <td>0</td>\n",
              "      <td>1</td>\n",
              "      <td>1</td>\n",
              "      <td>1</td>\n",
              "      <td>Brazil</td>\n",
              "      <td>SaoPaulo</td>\n",
              "      <td>21.0</td>\n",
              "      <td>1500.0</td>\n",
              "      <td>Tropical</td>\n",
              "      <td>-21.35</td>\n",
              "      <td>-47.066</td>\n",
              "      <td>Sandstone</td>\n",
              "      <td>Ferralsols</td>\n",
              "      <td>Oxisols</td>\n",
              "      <td>LUC</td>\n",
              "      <td>Sugarcane</td>\n",
              "      <td>grass</td>\n",
              "      <td>3.0</td>\n",
              "      <td>bioenergy</td>\n",
              "      <td>YES</td>\n",
              "      <td>perennial_food</td>\n",
              "      <td>3.0</td>\n",
              "      <td>NO</td>\n",
              "      <td>NaN</td>\n",
              "      <td>NO</td>\n",
              "      <td>NaN</td>\n",
              "      <td>NaN</td>\n",
              "      <td>NaN</td>\n",
              "      <td>NaN</td>\n",
              "      <td>NaN</td>\n",
              "      <td>NaN</td>\n",
              "      <td>NaN</td>\n",
              "      <td>NaN</td>\n",
              "      <td>NaN</td>\n",
              "      <td>NaN</td>\n",
              "      <td>NaN</td>\n",
              "      <td>MULTI</td>\n",
              "      <td>YES</td>\n",
              "      <td>YES</td>\n",
              "      <td>4</td>\n",
              "      <td>2013.0</td>\n",
              "      <td>20.0</td>\n",
              "      <td>1.0</td>\n",
              "      <td>20</td>\n",
              "      <td>0.0</td>\n",
              "      <td>10.0</td>\n",
              "      <td>5.0</td>\n",
              "      <td>1.30</td>\n",
              "      <td>13.7</td>\n",
              "      <td>5.1</td>\n",
              "      <td>81.2</td>\n",
              "      <td>NaN</td>\n",
              "      <td>NaN</td>\n",
              "      <td>NaN</td>\n",
              "      <td>20.70</td>\n",
              "      <td>NaN</td>\n",
              "      <td>20.0</td>\n",
              "      <td>1.0</td>\n",
              "      <td>20</td>\n",
              "      <td>0.0</td>\n",
              "      <td>10.0</td>\n",
              "      <td>5.0</td>\n",
              "      <td>1.36</td>\n",
              "      <td>19.2</td>\n",
              "      <td>10.4</td>\n",
              "      <td>70.5</td>\n",
              "      <td>NaN</td>\n",
              "      <td>NaN</td>\n",
              "      <td>NaN</td>\n",
              "      <td>17.39</td>\n",
              "      <td>NaN</td>\n",
              "      <td>2017.0</td>\n",
              "    </tr>\n",
              "    <tr>\n",
              "      <th>1</th>\n",
              "      <td>1</td>\n",
              "      <td>2</td>\n",
              "      <td>1</td>\n",
              "      <td>1</td>\n",
              "      <td>Brazil</td>\n",
              "      <td>SaoPaulo</td>\n",
              "      <td>21.0</td>\n",
              "      <td>1500.0</td>\n",
              "      <td>Tropical</td>\n",
              "      <td>-21.35</td>\n",
              "      <td>-47.066</td>\n",
              "      <td>Sandstone</td>\n",
              "      <td>Ferralsols</td>\n",
              "      <td>Oxisols</td>\n",
              "      <td>LUC</td>\n",
              "      <td>Sugarcane</td>\n",
              "      <td>grass</td>\n",
              "      <td>3.0</td>\n",
              "      <td>bioenergy</td>\n",
              "      <td>YES</td>\n",
              "      <td>perennial_food</td>\n",
              "      <td>3.0</td>\n",
              "      <td>NO</td>\n",
              "      <td>NaN</td>\n",
              "      <td>NO</td>\n",
              "      <td>NaN</td>\n",
              "      <td>NaN</td>\n",
              "      <td>NaN</td>\n",
              "      <td>NaN</td>\n",
              "      <td>NaN</td>\n",
              "      <td>NaN</td>\n",
              "      <td>NaN</td>\n",
              "      <td>NaN</td>\n",
              "      <td>NaN</td>\n",
              "      <td>NaN</td>\n",
              "      <td>NaN</td>\n",
              "      <td>MULTI</td>\n",
              "      <td>YES</td>\n",
              "      <td>YES</td>\n",
              "      <td>4</td>\n",
              "      <td>2013.0</td>\n",
              "      <td>20.0</td>\n",
              "      <td>1.0</td>\n",
              "      <td>20</td>\n",
              "      <td>10.0</td>\n",
              "      <td>20.0</td>\n",
              "      <td>15.0</td>\n",
              "      <td>1.34</td>\n",
              "      <td>14.8</td>\n",
              "      <td>1.1</td>\n",
              "      <td>84.2</td>\n",
              "      <td>NaN</td>\n",
              "      <td>NaN</td>\n",
              "      <td>NaN</td>\n",
              "      <td>12.54</td>\n",
              "      <td>NaN</td>\n",
              "      <td>20.0</td>\n",
              "      <td>1.0</td>\n",
              "      <td>20</td>\n",
              "      <td>10.0</td>\n",
              "      <td>20.0</td>\n",
              "      <td>15.0</td>\n",
              "      <td>1.58</td>\n",
              "      <td>21.7</td>\n",
              "      <td>8.9</td>\n",
              "      <td>69.3</td>\n",
              "      <td>NaN</td>\n",
              "      <td>NaN</td>\n",
              "      <td>NaN</td>\n",
              "      <td>15.57</td>\n",
              "      <td>NaN</td>\n",
              "      <td>2017.0</td>\n",
              "    </tr>\n",
              "    <tr>\n",
              "      <th>2</th>\n",
              "      <td>2</td>\n",
              "      <td>3</td>\n",
              "      <td>1</td>\n",
              "      <td>1</td>\n",
              "      <td>Brazil</td>\n",
              "      <td>SaoPaulo</td>\n",
              "      <td>21.0</td>\n",
              "      <td>1500.0</td>\n",
              "      <td>Tropical</td>\n",
              "      <td>-21.35</td>\n",
              "      <td>-47.066</td>\n",
              "      <td>Sandstone</td>\n",
              "      <td>Ferralsols</td>\n",
              "      <td>Oxisols</td>\n",
              "      <td>LUC</td>\n",
              "      <td>Sugarcane</td>\n",
              "      <td>grass</td>\n",
              "      <td>3.0</td>\n",
              "      <td>bioenergy</td>\n",
              "      <td>YES</td>\n",
              "      <td>perennial_food</td>\n",
              "      <td>3.0</td>\n",
              "      <td>NO</td>\n",
              "      <td>NaN</td>\n",
              "      <td>NO</td>\n",
              "      <td>NaN</td>\n",
              "      <td>NaN</td>\n",
              "      <td>NaN</td>\n",
              "      <td>NaN</td>\n",
              "      <td>NaN</td>\n",
              "      <td>NaN</td>\n",
              "      <td>NaN</td>\n",
              "      <td>NaN</td>\n",
              "      <td>NaN</td>\n",
              "      <td>NaN</td>\n",
              "      <td>NaN</td>\n",
              "      <td>MULTI</td>\n",
              "      <td>YES</td>\n",
              "      <td>YES</td>\n",
              "      <td>4</td>\n",
              "      <td>2013.0</td>\n",
              "      <td>20.0</td>\n",
              "      <td>1.0</td>\n",
              "      <td>20</td>\n",
              "      <td>20.0</td>\n",
              "      <td>60.0</td>\n",
              "      <td>40.0</td>\n",
              "      <td>1.55</td>\n",
              "      <td>18.0</td>\n",
              "      <td>2.0</td>\n",
              "      <td>80.0</td>\n",
              "      <td>NaN</td>\n",
              "      <td>NaN</td>\n",
              "      <td>NaN</td>\n",
              "      <td>30.92</td>\n",
              "      <td>NaN</td>\n",
              "      <td>20.0</td>\n",
              "      <td>1.0</td>\n",
              "      <td>20</td>\n",
              "      <td>20.0</td>\n",
              "      <td>60.0</td>\n",
              "      <td>40.0</td>\n",
              "      <td>1.41</td>\n",
              "      <td>24.8</td>\n",
              "      <td>8.7</td>\n",
              "      <td>66.5</td>\n",
              "      <td>NaN</td>\n",
              "      <td>NaN</td>\n",
              "      <td>NaN</td>\n",
              "      <td>55.38</td>\n",
              "      <td>NaN</td>\n",
              "      <td>2017.0</td>\n",
              "    </tr>\n",
              "    <tr>\n",
              "      <th>3</th>\n",
              "      <td>3</td>\n",
              "      <td>4</td>\n",
              "      <td>1</td>\n",
              "      <td>1</td>\n",
              "      <td>Brazil</td>\n",
              "      <td>SaoPaulo</td>\n",
              "      <td>21.0</td>\n",
              "      <td>1500.0</td>\n",
              "      <td>Tropical</td>\n",
              "      <td>-21.35</td>\n",
              "      <td>-47.066</td>\n",
              "      <td>Sandstone</td>\n",
              "      <td>Ferralsols</td>\n",
              "      <td>Oxisols</td>\n",
              "      <td>LUC</td>\n",
              "      <td>Sugarcane</td>\n",
              "      <td>grass</td>\n",
              "      <td>3.0</td>\n",
              "      <td>bioenergy</td>\n",
              "      <td>YES</td>\n",
              "      <td>perennial_food</td>\n",
              "      <td>3.0</td>\n",
              "      <td>NO</td>\n",
              "      <td>NaN</td>\n",
              "      <td>NO</td>\n",
              "      <td>NaN</td>\n",
              "      <td>NaN</td>\n",
              "      <td>NaN</td>\n",
              "      <td>NaN</td>\n",
              "      <td>NaN</td>\n",
              "      <td>NaN</td>\n",
              "      <td>NaN</td>\n",
              "      <td>NaN</td>\n",
              "      <td>NaN</td>\n",
              "      <td>NaN</td>\n",
              "      <td>NaN</td>\n",
              "      <td>MULTI</td>\n",
              "      <td>YES</td>\n",
              "      <td>YES</td>\n",
              "      <td>4</td>\n",
              "      <td>2013.0</td>\n",
              "      <td>20.0</td>\n",
              "      <td>1.0</td>\n",
              "      <td>20</td>\n",
              "      <td>60.0</td>\n",
              "      <td>100.0</td>\n",
              "      <td>80.0</td>\n",
              "      <td>1.46</td>\n",
              "      <td>18.8</td>\n",
              "      <td>3.5</td>\n",
              "      <td>77.7</td>\n",
              "      <td>NaN</td>\n",
              "      <td>NaN</td>\n",
              "      <td>NaN</td>\n",
              "      <td>36.23</td>\n",
              "      <td>NaN</td>\n",
              "      <td>20.0</td>\n",
              "      <td>1.0</td>\n",
              "      <td>20</td>\n",
              "      <td>60.0</td>\n",
              "      <td>100.0</td>\n",
              "      <td>80.0</td>\n",
              "      <td>1.31</td>\n",
              "      <td>24.8</td>\n",
              "      <td>9.2</td>\n",
              "      <td>66.0</td>\n",
              "      <td>NaN</td>\n",
              "      <td>NaN</td>\n",
              "      <td>NaN</td>\n",
              "      <td>36.10</td>\n",
              "      <td>NaN</td>\n",
              "      <td>2017.0</td>\n",
              "    </tr>\n",
              "    <tr>\n",
              "      <th>4</th>\n",
              "      <td>4</td>\n",
              "      <td>5</td>\n",
              "      <td>1</td>\n",
              "      <td>2</td>\n",
              "      <td>Brazil</td>\n",
              "      <td>SaoPaulo</td>\n",
              "      <td>21.0</td>\n",
              "      <td>1500.0</td>\n",
              "      <td>Tropical</td>\n",
              "      <td>-21.35</td>\n",
              "      <td>-47.066</td>\n",
              "      <td>Sandstone</td>\n",
              "      <td>Luvisol</td>\n",
              "      <td>Ultisol</td>\n",
              "      <td>LUC</td>\n",
              "      <td>Sugarcane</td>\n",
              "      <td>grass</td>\n",
              "      <td>4.0</td>\n",
              "      <td>bioenergy</td>\n",
              "      <td>YES</td>\n",
              "      <td>perennial_food</td>\n",
              "      <td>4.0</td>\n",
              "      <td>NO</td>\n",
              "      <td>NaN</td>\n",
              "      <td>NO</td>\n",
              "      <td>NaN</td>\n",
              "      <td>NaN</td>\n",
              "      <td>NaN</td>\n",
              "      <td>NaN</td>\n",
              "      <td>NaN</td>\n",
              "      <td>NaN</td>\n",
              "      <td>NaN</td>\n",
              "      <td>NaN</td>\n",
              "      <td>NaN</td>\n",
              "      <td>NaN</td>\n",
              "      <td>NaN</td>\n",
              "      <td>MULTI</td>\n",
              "      <td>YES</td>\n",
              "      <td>YES</td>\n",
              "      <td>4</td>\n",
              "      <td>2013.0</td>\n",
              "      <td>20.0</td>\n",
              "      <td>1.0</td>\n",
              "      <td>20</td>\n",
              "      <td>0.0</td>\n",
              "      <td>10.0</td>\n",
              "      <td>5.0</td>\n",
              "      <td>1.20</td>\n",
              "      <td>38.1</td>\n",
              "      <td>10.9</td>\n",
              "      <td>51.0</td>\n",
              "      <td>NaN</td>\n",
              "      <td>NaN</td>\n",
              "      <td>NaN</td>\n",
              "      <td>16.43</td>\n",
              "      <td>NaN</td>\n",
              "      <td>20.0</td>\n",
              "      <td>1.0</td>\n",
              "      <td>20</td>\n",
              "      <td>0.0</td>\n",
              "      <td>10.0</td>\n",
              "      <td>5.0</td>\n",
              "      <td>1.27</td>\n",
              "      <td>42.9</td>\n",
              "      <td>11.4</td>\n",
              "      <td>45.7</td>\n",
              "      <td>NaN</td>\n",
              "      <td>NaN</td>\n",
              "      <td>NaN</td>\n",
              "      <td>16.28</td>\n",
              "      <td>NaN</td>\n",
              "      <td>2017.0</td>\n",
              "    </tr>\n",
              "  </tbody>\n",
              "</table>\n",
              "</div>"
            ],
            "text/plain": [
              "   Unnamed: 0  id  idstudy  plotid country    region  temp_c  \\\n",
              "0           0   1        1       1  Brazil  SaoPaulo    21.0   \n",
              "1           1   2        1       1  Brazil  SaoPaulo    21.0   \n",
              "2           2   3        1       1  Brazil  SaoPaulo    21.0   \n",
              "3           3   4        1       1  Brazil  SaoPaulo    21.0   \n",
              "4           4   5        1       2  Brazil  SaoPaulo    21.0   \n",
              "\n",
              "   precipitation_mm   climate  latitud  longitud    bedrock   soil_type  \\\n",
              "0            1500.0  Tropical   -21.35   -47.066  Sandstone  Ferralsols   \n",
              "1            1500.0  Tropical   -21.35   -47.066  Sandstone  Ferralsols   \n",
              "2            1500.0  Tropical   -21.35   -47.066  Sandstone  Ferralsols   \n",
              "3            1500.0  Tropical   -21.35   -47.066  Sandstone  Ferralsols   \n",
              "4            1500.0  Tropical   -21.35   -47.066  Sandstone     Luvisol   \n",
              "\n",
              "      usda type_change crop_current crop_type  cropage current_land_use  \\\n",
              "0  Oxisols         LUC    Sugarcane     grass      3.0        bioenergy   \n",
              "1  Oxisols         LUC    Sugarcane     grass      3.0        bioenergy   \n",
              "2  Oxisols         LUC    Sugarcane     grass      3.0        bioenergy   \n",
              "3  Oxisols         LUC    Sugarcane     grass      3.0        bioenergy   \n",
              "4  Ultisol         LUC    Sugarcane     grass      4.0        bioenergy   \n",
              "\n",
              "  luc_this_study previous_land_use  years_since_luc temporal timetemporal  \\\n",
              "0            YES    perennial_food              3.0       NO          NaN   \n",
              "1            YES    perennial_food              3.0       NO          NaN   \n",
              "2            YES    perennial_food              3.0       NO          NaN   \n",
              "3            YES    perennial_food              3.0       NO          NaN   \n",
              "4            YES    perennial_food              4.0       NO          NaN   \n",
              "\n",
              "  change_management  year_since_management_change soil_treatments  \\\n",
              "0                NO                           NaN             NaN   \n",
              "1                NO                           NaN             NaN   \n",
              "2                NO                           NaN             NaN   \n",
              "3                NO                           NaN             NaN   \n",
              "4                NO                           NaN             NaN   \n",
              "\n",
              "  tillageyesno tillage_type fertilizeryesno fet_type rate_fert pesticides  \\\n",
              "0          NaN          NaN             NaN      NaN       NaN        NaN   \n",
              "1          NaN          NaN             NaN      NaN       NaN        NaN   \n",
              "2          NaN          NaN             NaN      NaN       NaN        NaN   \n",
              "3          NaN          NaN             NaN      NaN       NaN        NaN   \n",
              "4          NaN          NaN             NaN      NaN       NaN        NaN   \n",
              "\n",
              "  org_amendyesno org_amend_type prev_man multiple_sampl  \\\n",
              "0            NaN            NaN      NaN          MULTI   \n",
              "1            NaN            NaN      NaN          MULTI   \n",
              "2            NaN            NaN      NaN          MULTI   \n",
              "3            NaN            NaN      NaN          MULTI   \n",
              "4            NaN            NaN      NaN          MULTI   \n",
              "\n",
              "  dif_depth_current_point conti_depth  num_depth  year_measure  \\\n",
              "0                     YES         YES          4        2013.0   \n",
              "1                     YES         YES          4        2013.0   \n",
              "2                     YES         YES          4        2013.0   \n",
              "3                     YES         YES          4        2013.0   \n",
              "4                     YES         YES          4        2013.0   \n",
              "\n",
              "   n_plots_current  n_sample_per_plot_current  n_measured_current  \\\n",
              "0             20.0                        1.0                  20   \n",
              "1             20.0                        1.0                  20   \n",
              "2             20.0                        1.0                  20   \n",
              "3             20.0                        1.0                  20   \n",
              "4             20.0                        1.0                  20   \n",
              "\n",
              "   soil_from_cm_current  soil_to_cm_current  depth_midpoint_current  \\\n",
              "0                   0.0                10.0                     5.0   \n",
              "1                  10.0                20.0                    15.0   \n",
              "2                  20.0                60.0                    40.0   \n",
              "3                  60.0               100.0                    80.0   \n",
              "4                   0.0                10.0                     5.0   \n",
              "\n",
              "   bulk_density_current  %clay_current  %silt_current  %sand_current  \\\n",
              "0                  1.30           13.7            5.1           81.2   \n",
              "1                  1.34           14.8            1.1           84.2   \n",
              "2                  1.55           18.0            2.0           80.0   \n",
              "3                  1.46           18.8            3.5           77.7   \n",
              "4                  1.20           38.1           10.9           51.0   \n",
              "\n",
              "   ph_current  soc_g_kg_current sd_soc_gkg_current  soc_mg_ha_current  \\\n",
              "0         NaN               NaN                NaN              20.70   \n",
              "1         NaN               NaN                NaN              12.54   \n",
              "2         NaN               NaN                NaN              30.92   \n",
              "3         NaN               NaN                NaN              36.23   \n",
              "4         NaN               NaN                NaN              16.43   \n",
              "\n",
              "   sd_soc_mgha_current  n_plots_previous  n_sample_per_plot_previous  \\\n",
              "0                  NaN              20.0                         1.0   \n",
              "1                  NaN              20.0                         1.0   \n",
              "2                  NaN              20.0                         1.0   \n",
              "3                  NaN              20.0                         1.0   \n",
              "4                  NaN              20.0                         1.0   \n",
              "\n",
              "   n_measured_current.1  soil_from_cm_previous  soil_to_cm_previous  \\\n",
              "0                    20                    0.0                 10.0   \n",
              "1                    20                   10.0                 20.0   \n",
              "2                    20                   20.0                 60.0   \n",
              "3                    20                   60.0                100.0   \n",
              "4                    20                    0.0                 10.0   \n",
              "\n",
              "   depth_midpoint_previous  bulkdensity_previous  %clay_previous  \\\n",
              "0                      5.0                  1.36            19.2   \n",
              "1                     15.0                  1.58            21.7   \n",
              "2                     40.0                  1.41            24.8   \n",
              "3                     80.0                  1.31            24.8   \n",
              "4                      5.0                  1.27            42.9   \n",
              "\n",
              "   %silt_previous  %sand_previous  ph_previous  soc_g_kg_previous  \\\n",
              "0            10.4            70.5          NaN                NaN   \n",
              "1             8.9            69.3          NaN                NaN   \n",
              "2             8.7            66.5          NaN                NaN   \n",
              "3             9.2            66.0          NaN                NaN   \n",
              "4            11.4            45.7          NaN                NaN   \n",
              "\n",
              "  sd_soc_gkg_previous  soc_mg_ha_previous  sd_soc_mgha_previous  yearppub  \n",
              "0                 NaN               17.39                   NaN    2017.0  \n",
              "1                 NaN               15.57                   NaN    2017.0  \n",
              "2                 NaN               55.38                   NaN    2017.0  \n",
              "3                 NaN               36.10                   NaN    2017.0  \n",
              "4                 NaN               16.28                   NaN    2017.0  "
            ]
          },
          "metadata": {
            "tags": []
          },
          "execution_count": 308
        }
      ]
    },
    {
      "cell_type": "markdown",
      "metadata": {
        "id": "gi-8-vdaIysE"
      },
      "source": [
        "### 2.3.1 Feature no till\r\n",
        "This feature shows a lot of missing values. However, with the variables previous crop, current crop and, land_use_change (luc) and soil treatments me are able to generate a nice feature here."
      ]
    },
    {
      "cell_type": "code",
      "metadata": {
        "colab": {
          "base_uri": "https://localhost:8080/"
        },
        "id": "orTiah_THco9",
        "outputId": "831d09cd-2cb8-4c00-dbd0-da3a3b2dc2bd"
      },
      "source": [
        "data.soil_treatments.value_counts()"
      ],
      "execution_count": 309,
      "outputs": [
        {
          "output_type": "execute_result",
          "data": {
            "text/plain": [
              "NO             260\n",
              "YES            148\n",
              "grazed          18\n",
              "plow/harrow     12\n",
              "disk_harrow      7\n",
              "tillage          4\n",
              "burn_5years      2\n",
              "burn_annual      2\n",
              "Name: soil_treatments, dtype: int64"
            ]
          },
          "metadata": {
            "tags": []
          },
          "execution_count": 309
        }
      ]
    },
    {
      "cell_type": "code",
      "metadata": {
        "id": "Fd-O63kKHcmM"
      },
      "source": [
        "data = data_raw.copy()\r\n"
      ],
      "execution_count": 310,
      "outputs": []
    },
    {
      "cell_type": "code",
      "metadata": {
        "colab": {
          "base_uri": "https://localhost:8080/"
        },
        "id": "2zI8cJXPHcfm",
        "outputId": "560f63b3-71c4-4547-c2de-060e30e54b21"
      },
      "source": [
        "data.previous_land_use.value_counts()"
      ],
      "execution_count": 311,
      "outputs": [
        {
          "output_type": "execute_result",
          "data": {
            "text/plain": [
              "annual_crop         441\n",
              "grassland           324\n",
              "natural_forest      232\n",
              "secondary_forest     62\n",
              "SRC                  21\n",
              "fallow               18\n",
              "perennial_food        8\n",
              "Name: previous_land_use, dtype: int64"
            ]
          },
          "metadata": {
            "tags": []
          },
          "execution_count": 311
        }
      ]
    },
    {
      "cell_type": "code",
      "metadata": {
        "colab": {
          "base_uri": "https://localhost:8080/"
        },
        "id": "OPYOglWjNsu8",
        "outputId": "19905b7e-b4ad-495a-efc5-b3347c747497"
      },
      "source": [
        "data.current_land_use.value_counts()"
      ],
      "execution_count": 312,
      "outputs": [
        {
          "output_type": "execute_result",
          "data": {
            "text/plain": [
              "bioenergy        612\n",
              "food             599\n",
              "SRC              296\n",
              "bioproduct        37\n",
              "livestockfood     25\n",
              "agrofor           18\n",
              "annual_crop       18\n",
              "Name: current_land_use, dtype: int64"
            ]
          },
          "metadata": {
            "tags": []
          },
          "execution_count": 312
        }
      ]
    },
    {
      "cell_type": "code",
      "metadata": {
        "id": "lF0IgxFCQ7UU"
      },
      "source": [
        "data_till = data_raw[['id']]\r\n",
        "data_till['soil_treatments'] = data['soil_treatments']"
      ],
      "execution_count": 313,
      "outputs": []
    },
    {
      "cell_type": "code",
      "metadata": {
        "colab": {
          "base_uri": "https://localhost:8080/"
        },
        "id": "5FKMnqWBQhde",
        "outputId": "cc77cba4-c855-4a1b-836e-3a1066a776db"
      },
      "source": [
        "data_till['curr_till'] = data_raw['crop_current'].replace({\"Sugarcane\" : 1, \r\n",
        "                                                                'vineyard':1, \r\n",
        "                                                                \"Cotton?corn?groundnut\" : 1, \r\n",
        "                                                                'Maize' : 1, \r\n",
        "                                                                'Cucumber': 1, \r\n",
        "                                                                'Melon': 1 })\r\n",
        "data_till['curr_till'] = data_till['curr_till'].apply(lambda x: 0 if x!=1 else x)\r\n",
        "data_till['curr_till'].value_counts()                                                  "
      ],
      "execution_count": 314,
      "outputs": [
        {
          "output_type": "execute_result",
          "data": {
            "text/plain": [
              "0    1354\n",
              "1     251\n",
              "Name: curr_till, dtype: int64"
            ]
          },
          "metadata": {
            "tags": []
          },
          "execution_count": 314
        }
      ]
    },
    {
      "cell_type": "code",
      "metadata": {
        "colab": {
          "base_uri": "https://localhost:8080/"
        },
        "id": "URLRJeWYV_GE",
        "outputId": "aae38ee7-08ee-4612-dd08-16350e736f79"
      },
      "source": [
        "data_till['curr_till'] = np.where((data_till['soil_treatments'] == 'NO') |\r\n",
        "                                  (data_till['soil_treatments'] == 'grazed'),0, data_till['curr_till'])     \r\n",
        "data_till['curr_till'] = np.where((data_till['soil_treatments'] == 'YES') | \r\n",
        "                                  (data_till['soil_treatments'] == 'plow/harrow') |\r\n",
        "                                  (data_till['soil_treatments'] == 'disc/harrow') |\r\n",
        "                                  (data_till['soil_treatments'] == 'tillage')\r\n",
        "                                  ,1, data_till['curr_till']) \r\n",
        "data_till.curr_till.value_counts()"
      ],
      "execution_count": 315,
      "outputs": [
        {
          "output_type": "execute_result",
          "data": {
            "text/plain": [
              "0    1211\n",
              "1     394\n",
              "Name: curr_till, dtype: int64"
            ]
          },
          "metadata": {
            "tags": []
          },
          "execution_count": 315
        }
      ]
    },
    {
      "cell_type": "code",
      "metadata": {
        "colab": {
          "base_uri": "https://localhost:8080/",
          "height": 204
        },
        "id": "8-7l9qo-wmyJ",
        "outputId": "a10654c8-c5d1-4578-9e53-676374fe18f4"
      },
      "source": [
        "data_till['soil_treatments'] = data['soil_treatments']\r\n",
        "data_till.head()"
      ],
      "execution_count": 316,
      "outputs": [
        {
          "output_type": "execute_result",
          "data": {
            "text/html": [
              "<div>\n",
              "<style scoped>\n",
              "    .dataframe tbody tr th:only-of-type {\n",
              "        vertical-align: middle;\n",
              "    }\n",
              "\n",
              "    .dataframe tbody tr th {\n",
              "        vertical-align: top;\n",
              "    }\n",
              "\n",
              "    .dataframe thead th {\n",
              "        text-align: right;\n",
              "    }\n",
              "</style>\n",
              "<table border=\"1\" class=\"dataframe\">\n",
              "  <thead>\n",
              "    <tr style=\"text-align: right;\">\n",
              "      <th></th>\n",
              "      <th>id</th>\n",
              "      <th>soil_treatments</th>\n",
              "      <th>curr_till</th>\n",
              "    </tr>\n",
              "  </thead>\n",
              "  <tbody>\n",
              "    <tr>\n",
              "      <th>0</th>\n",
              "      <td>1</td>\n",
              "      <td>NaN</td>\n",
              "      <td>1</td>\n",
              "    </tr>\n",
              "    <tr>\n",
              "      <th>1</th>\n",
              "      <td>2</td>\n",
              "      <td>NaN</td>\n",
              "      <td>1</td>\n",
              "    </tr>\n",
              "    <tr>\n",
              "      <th>2</th>\n",
              "      <td>3</td>\n",
              "      <td>NaN</td>\n",
              "      <td>1</td>\n",
              "    </tr>\n",
              "    <tr>\n",
              "      <th>3</th>\n",
              "      <td>4</td>\n",
              "      <td>NaN</td>\n",
              "      <td>1</td>\n",
              "    </tr>\n",
              "    <tr>\n",
              "      <th>4</th>\n",
              "      <td>5</td>\n",
              "      <td>NaN</td>\n",
              "      <td>1</td>\n",
              "    </tr>\n",
              "  </tbody>\n",
              "</table>\n",
              "</div>"
            ],
            "text/plain": [
              "   id soil_treatments  curr_till\n",
              "0   1             NaN          1\n",
              "1   2             NaN          1\n",
              "2   3             NaN          1\n",
              "3   4             NaN          1\n",
              "4   5             NaN          1"
            ]
          },
          "metadata": {
            "tags": []
          },
          "execution_count": 316
        }
      ]
    },
    {
      "cell_type": "code",
      "metadata": {
        "colab": {
          "base_uri": "https://localhost:8080/"
        },
        "id": "iabgRBCvLOkP",
        "outputId": "c8c938e7-d594-418d-a8a9-a67b48ae2b44"
      },
      "source": [
        "data_till['prev_till'] = data_raw['previous_land_use'].replace({\"annual_crop\" : 1, \r\n",
        "                                                                'grassland' : 0, \r\n",
        "                                                                'natural_forest': 0, \r\n",
        "                                                                'secondary_forest': 0, \r\n",
        "                                                                'SRC': 1, 'fallow':1, \r\n",
        "                                                                \"perennial_food\" : 0})\r\n",
        "\r\n",
        "data_till.prev_till.value_counts()"
      ],
      "execution_count": 317,
      "outputs": [
        {
          "output_type": "execute_result",
          "data": {
            "text/plain": [
              "0.0    626\n",
              "1.0    480\n",
              "Name: prev_till, dtype: int64"
            ]
          },
          "metadata": {
            "tags": []
          },
          "execution_count": 317
        }
      ]
    },
    {
      "cell_type": "code",
      "metadata": {
        "id": "VYRrKBzfa9ZX"
      },
      "source": [
        ""
      ],
      "execution_count": 317,
      "outputs": []
    },
    {
      "cell_type": "markdown",
      "metadata": {
        "id": "8Qd2G-TFaO87"
      },
      "source": [
        "Feature generation till\r\n",
        "as we want to predict the change in SOC we are onlu interested in the chance in the tilling practice. Thereofore we assume we have only three cases\r\n",
        "0 no change  \r\n",
        "-1 from no till to till (we expect a negative effect on SOC)  \r\n",
        "1 from till to no till (we expect a positive effect on SOC)"
      ]
    },
    {
      "cell_type": "code",
      "metadata": {
        "colab": {
          "base_uri": "https://localhost:8080/",
          "height": 204
        },
        "id": "aRNAR9GW3hth",
        "outputId": "ec9a7a08-f548-4a49-8ff3-930f641f1ddb"
      },
      "source": [
        "data_till['change_till'] = np.nan\r\n",
        "data_till['change_till'] = np.where((data_till['prev_till'] == 0) & (data_till['curr_till'] == 0),0, data_till['change_till'])\r\n",
        "data_till['change_till'] = np.where((data_till['prev_till'] == 1) & (data_till['curr_till'] == 1),0, data_till['change_till'])\r\n",
        "data_till['change_till'] = np.where((data_till['prev_till'] == 0) & (data_till['curr_till'] == 1),-1, data_till['change_till'])\r\n",
        "data_till['change_till'] = np.where((data_till['prev_till'] == 1) & (data_till['curr_till'] == 0),1, data_till['change_till'])\r\n",
        "data_till.head()"
      ],
      "execution_count": 318,
      "outputs": [
        {
          "output_type": "execute_result",
          "data": {
            "text/html": [
              "<div>\n",
              "<style scoped>\n",
              "    .dataframe tbody tr th:only-of-type {\n",
              "        vertical-align: middle;\n",
              "    }\n",
              "\n",
              "    .dataframe tbody tr th {\n",
              "        vertical-align: top;\n",
              "    }\n",
              "\n",
              "    .dataframe thead th {\n",
              "        text-align: right;\n",
              "    }\n",
              "</style>\n",
              "<table border=\"1\" class=\"dataframe\">\n",
              "  <thead>\n",
              "    <tr style=\"text-align: right;\">\n",
              "      <th></th>\n",
              "      <th>id</th>\n",
              "      <th>soil_treatments</th>\n",
              "      <th>curr_till</th>\n",
              "      <th>prev_till</th>\n",
              "      <th>change_till</th>\n",
              "    </tr>\n",
              "  </thead>\n",
              "  <tbody>\n",
              "    <tr>\n",
              "      <th>0</th>\n",
              "      <td>1</td>\n",
              "      <td>NaN</td>\n",
              "      <td>1</td>\n",
              "      <td>0.0</td>\n",
              "      <td>-1.0</td>\n",
              "    </tr>\n",
              "    <tr>\n",
              "      <th>1</th>\n",
              "      <td>2</td>\n",
              "      <td>NaN</td>\n",
              "      <td>1</td>\n",
              "      <td>0.0</td>\n",
              "      <td>-1.0</td>\n",
              "    </tr>\n",
              "    <tr>\n",
              "      <th>2</th>\n",
              "      <td>3</td>\n",
              "      <td>NaN</td>\n",
              "      <td>1</td>\n",
              "      <td>0.0</td>\n",
              "      <td>-1.0</td>\n",
              "    </tr>\n",
              "    <tr>\n",
              "      <th>3</th>\n",
              "      <td>4</td>\n",
              "      <td>NaN</td>\n",
              "      <td>1</td>\n",
              "      <td>0.0</td>\n",
              "      <td>-1.0</td>\n",
              "    </tr>\n",
              "    <tr>\n",
              "      <th>4</th>\n",
              "      <td>5</td>\n",
              "      <td>NaN</td>\n",
              "      <td>1</td>\n",
              "      <td>0.0</td>\n",
              "      <td>-1.0</td>\n",
              "    </tr>\n",
              "  </tbody>\n",
              "</table>\n",
              "</div>"
            ],
            "text/plain": [
              "   id soil_treatments  curr_till  prev_till  change_till\n",
              "0   1             NaN          1        0.0         -1.0\n",
              "1   2             NaN          1        0.0         -1.0\n",
              "2   3             NaN          1        0.0         -1.0\n",
              "3   4             NaN          1        0.0         -1.0\n",
              "4   5             NaN          1        0.0         -1.0"
            ]
          },
          "metadata": {
            "tags": []
          },
          "execution_count": 318
        }
      ]
    },
    {
      "cell_type": "code",
      "metadata": {
        "colab": {
          "base_uri": "https://localhost:8080/"
        },
        "id": "YC1dA-QT5Xgp",
        "outputId": "c6934c9c-e200-4b05-e911-5f81107e8d63"
      },
      "source": [
        "data_till['change_till'].value_counts()"
      ],
      "execution_count": 319,
      "outputs": [
        {
          "output_type": "execute_result",
          "data": {
            "text/plain": [
              " 0.0    446\n",
              " 1.0    426\n",
              "-1.0    234\n",
              "Name: change_till, dtype: int64"
            ]
          },
          "metadata": {
            "tags": []
          },
          "execution_count": 319
        }
      ]
    },
    {
      "cell_type": "code",
      "metadata": {
        "id": "YWac07bn77fi"
      },
      "source": [
        "data_till.drop(['soil_treatments', 'curr_till', 'prev_till' ], axis=1, inplace = True)"
      ],
      "execution_count": 320,
      "outputs": []
    },
    {
      "cell_type": "markdown",
      "metadata": {
        "id": "ikg-YwAN8dt-"
      },
      "source": [
        "### 2.3.2 feature fertilzer"
      ]
    },
    {
      "cell_type": "code",
      "metadata": {
        "id": "RhQjXVmD8dJm"
      },
      "source": [
        "data_till['fert_type'] = data['fet_type']"
      ],
      "execution_count": 321,
      "outputs": []
    },
    {
      "cell_type": "code",
      "metadata": {
        "id": "tz4oaSbrHcaM"
      },
      "source": [
        "\r\n",
        "data_till['fert_type'].replace(to_replace=['N', 'NPK', 'NO_N', 'reduced_N', 'high_N', 'less_N', 'more_N', 'NP', 'N?P'], value ='NO' , inplace=True)\r\n",
        "data_till['fert_type'].replace(to_replace=['urea', 'waste', 'organic?N', 'less_vinasse', 'more_vinasse', 'less_trash', 'manure_+_CC', 'more_trash', 'manure', 'DAP+urea'], value ='organic' , inplace=True)\r\n",
        "data_till['fert_type'].replace(to_replace=['biochar15%', 'biochar30%'], value ='biochar' , inplace=True)\r\n",
        "data_till['fert_type'].replace(to_replace=['PK+(NH4)2SO4',\r\n",
        "'PK+(NH4)2SO11',\r\n",
        "'PK+(NH4)2SO19',\r\n",
        "'PK+(NH4)2SO7',\r\n",
        "'PK+(NH4)2SO12',\r\n",
        "'PK+(NH4)2SO8',\r\n",
        "'PK+(NH4)2SO16',\r\n",
        "'PK+(NH4)2SO20',\r\n",
        "'PK+(NH4)2SO21',\r\n",
        "'PK+(NH4)2SO15',\r\n",
        "'PK+NH4NO3',\r\n",
        "'PK+(NH4)2SO10',\r\n",
        "'PK+(NH4)2SO17',\r\n",
        "'PK+(NH4)2SO18',\r\n",
        "'PK+NH4NO4', \r\n",
        "'PK+NH4NO5',\r\n",
        "'PK+(NH4)2SO14',\r\n",
        "'PK+(NH4)2SO9','PK+(NH4)2SO13', 'PK'], value ='mineral' , inplace=True)\r\n",
        "data_till['fert_type'].replace(to_replace=['mineral_changing_to_organic',\r\n",
        "'DNPK',\r\n",
        "'DNP',\r\n",
        "'OMW_+_CR'], value ='mixed' , inplace=True)"
      ],
      "execution_count": 322,
      "outputs": []
    },
    {
      "cell_type": "code",
      "metadata": {
        "colab": {
          "base_uri": "https://localhost:8080/"
        },
        "id": "wiUXP-DJ9UBY",
        "outputId": "b12000f5-c452-42e8-b61b-8d20889a723e"
      },
      "source": [
        "data_till['fert_type'].value_counts()"
      ],
      "execution_count": 323,
      "outputs": [
        {
          "output_type": "execute_result",
          "data": {
            "text/plain": [
              "NO         183\n",
              "mineral    120\n",
              "organic    119\n",
              "mixed       75\n",
              "compost     11\n",
              "biochar      6\n",
              "Name: fert_type, dtype: int64"
            ]
          },
          "metadata": {
            "tags": []
          },
          "execution_count": 323
        }
      ]
    },
    {
      "cell_type": "code",
      "metadata": {
        "colab": {
          "base_uri": "https://localhost:8080/"
        },
        "id": "1wFvUr899rBz",
        "outputId": "7d26b846-4049-439e-b8dc-6514a02f0a1d"
      },
      "source": [
        "data_till.dtypes"
      ],
      "execution_count": 324,
      "outputs": [
        {
          "output_type": "execute_result",
          "data": {
            "text/plain": [
              "id               int64\n",
              "change_till    float64\n",
              "fert_type       object\n",
              "dtype: object"
            ]
          },
          "metadata": {
            "tags": []
          },
          "execution_count": 324
        }
      ]
    },
    {
      "cell_type": "code",
      "metadata": {
        "id": "s9bFpCfp92fP"
      },
      "source": [
        "data_till.to_csv('df_cats.csv')"
      ],
      "execution_count": 326,
      "outputs": []
    }
  ]
}
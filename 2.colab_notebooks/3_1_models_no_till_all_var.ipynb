{
  "nbformat": 4,
  "nbformat_minor": 0,
  "metadata": {
    "colab": {
      "name": "3_1_models_no_till_all var.ipynb",
      "provenance": [],
      "collapsed_sections": []
    },
    "kernelspec": {
      "name": "python3",
      "display_name": "Python 3"
    }
  },
  "cells": [
    {
      "cell_type": "markdown",
      "metadata": {
        "id": "jjZxxyhl-1RP"
      },
      "source": [
        "# 3 Models and its validation\r\n",
        "\r\n",
        "## 3.1 Impact of No-till on the change of SOC in the upper 30cm\r\n"
      ]
    },
    {
      "cell_type": "markdown",
      "metadata": {
        "id": "PLx4U7us-1Fg"
      },
      "source": [
        "### 3.1.1 Merging dataset"
      ]
    },
    {
      "cell_type": "code",
      "metadata": {
        "id": "KqjXm0NI-wVA"
      },
      "source": [
        "import pandas as pd\r\n",
        "import numpy as np\r\n",
        "\r\n",
        "from sklearn import linear_model\r\n",
        "from sklearn.metrics import mean_squared_error, r2_score\r\n",
        "from sklearn.model_selection import train_test_split\r\n",
        "from sklearn.preprocessing import OrdinalEncoder\r\n",
        "from sklearn.preprocessing import OneHotEncoder\r\n",
        "from sklearn.preprocessing import Normalizer\r\n",
        "from sklearn.preprocessing import StandardScaler\r\n",
        "from scipy.stats import probplot\r\n",
        "import seaborn as sns\r\n",
        "import matplotlib.pyplot as plt\r\n",
        "pd.set_option('display.max_columns',None)\r\n",
        "pd.set_option('display.max_rows', None)"
      ],
      "execution_count": 165,
      "outputs": []
    },
    {
      "cell_type": "code",
      "metadata": {
        "id": "VjKuAK8S--Jv"
      },
      "source": [
        "data_nums=pd.read_csv('df_nums_soc_mg.csv')\r\n",
        "data_nums.drop(['Unnamed: 0'], axis=1, inplace=True)"
      ],
      "execution_count": 166,
      "outputs": []
    },
    {
      "cell_type": "code",
      "metadata": {
        "id": "agj1MMW5--Gn"
      },
      "source": [
        "data_cats=pd.read_csv('df_cats.csv')\r\n",
        "data_cats.drop(['Unnamed: 0', 'id'], axis=1, inplace=True)"
      ],
      "execution_count": 167,
      "outputs": []
    },
    {
      "cell_type": "code",
      "metadata": {
        "colab": {
          "base_uri": "https://localhost:8080/",
          "height": 224
        },
        "id": "h_lvlZiC--Df",
        "outputId": "f7bc294a-5bf4-4cff-d8f0-86b3f9a2f809"
      },
      "source": [
        "data_all= pd.concat([data_nums,data_cats], axis=1)\r\n",
        "data_all.head()"
      ],
      "execution_count": 168,
      "outputs": [
        {
          "output_type": "execute_result",
          "data": {
            "text/html": [
              "<div>\n",
              "<style scoped>\n",
              "    .dataframe tbody tr th:only-of-type {\n",
              "        vertical-align: middle;\n",
              "    }\n",
              "\n",
              "    .dataframe tbody tr th {\n",
              "        vertical-align: top;\n",
              "    }\n",
              "\n",
              "    .dataframe thead th {\n",
              "        text-align: right;\n",
              "    }\n",
              "</style>\n",
              "<table border=\"1\" class=\"dataframe\">\n",
              "  <thead>\n",
              "    <tr style=\"text-align: right;\">\n",
              "      <th></th>\n",
              "      <th>temp_c</th>\n",
              "      <th>precipitation_mm</th>\n",
              "      <th>depth_midpoint_previous</th>\n",
              "      <th>depth_midpoint_current</th>\n",
              "      <th>soc_g_kg_previous</th>\n",
              "      <th>soc_mg_ha_previous</th>\n",
              "      <th>latitud</th>\n",
              "      <th>longitud</th>\n",
              "      <th>elevation</th>\n",
              "      <th>slope</th>\n",
              "      <th>slopeclass</th>\n",
              "      <th>aspect</th>\n",
              "      <th>hillshade</th>\n",
              "      <th>rougness</th>\n",
              "      <th>cwd</th>\n",
              "      <th>pt10</th>\n",
              "      <th>avg_percipitation</th>\n",
              "      <th>bd_avg</th>\n",
              "      <th>ph_avg</th>\n",
              "      <th>cat_avg</th>\n",
              "      <th>clay_avg</th>\n",
              "      <th>slit_avg</th>\n",
              "      <th>sand_avg</th>\n",
              "      <th>gridsoc_g_kg_avg</th>\n",
              "      <th>soc_change_mg</th>\n",
              "      <th>change_till</th>\n",
              "      <th>fert_type</th>\n",
              "    </tr>\n",
              "  </thead>\n",
              "  <tbody>\n",
              "    <tr>\n",
              "      <th>0</th>\n",
              "      <td>21.0</td>\n",
              "      <td>1500.0</td>\n",
              "      <td>5.0</td>\n",
              "      <td>5.0</td>\n",
              "      <td>48.393333</td>\n",
              "      <td>17.39</td>\n",
              "      <td>-21.35</td>\n",
              "      <td>-47.07</td>\n",
              "      <td>622.0</td>\n",
              "      <td>90.0</td>\n",
              "      <td>3.0</td>\n",
              "      <td>329.53</td>\n",
              "      <td>158.33</td>\n",
              "      <td>33.97</td>\n",
              "      <td>-320.33</td>\n",
              "      <td>45.65</td>\n",
              "      <td>261.0</td>\n",
              "      <td>1347.5</td>\n",
              "      <td>52.0</td>\n",
              "      <td>11.0</td>\n",
              "      <td>35.5</td>\n",
              "      <td>19.5</td>\n",
              "      <td>45.0</td>\n",
              "      <td>16.5</td>\n",
              "      <td>3.31</td>\n",
              "      <td>-1.0</td>\n",
              "      <td>NaN</td>\n",
              "    </tr>\n",
              "    <tr>\n",
              "      <th>1</th>\n",
              "      <td>21.0</td>\n",
              "      <td>1500.0</td>\n",
              "      <td>15.0</td>\n",
              "      <td>15.0</td>\n",
              "      <td>43.580000</td>\n",
              "      <td>15.57</td>\n",
              "      <td>-21.35</td>\n",
              "      <td>-47.07</td>\n",
              "      <td>622.0</td>\n",
              "      <td>90.0</td>\n",
              "      <td>3.0</td>\n",
              "      <td>329.53</td>\n",
              "      <td>158.33</td>\n",
              "      <td>33.97</td>\n",
              "      <td>-320.33</td>\n",
              "      <td>45.65</td>\n",
              "      <td>261.0</td>\n",
              "      <td>1347.5</td>\n",
              "      <td>52.0</td>\n",
              "      <td>11.0</td>\n",
              "      <td>35.5</td>\n",
              "      <td>19.5</td>\n",
              "      <td>45.0</td>\n",
              "      <td>16.5</td>\n",
              "      <td>-3.03</td>\n",
              "      <td>-1.0</td>\n",
              "      <td>NaN</td>\n",
              "    </tr>\n",
              "    <tr>\n",
              "      <th>2</th>\n",
              "      <td>21.0</td>\n",
              "      <td>1500.0</td>\n",
              "      <td>40.0</td>\n",
              "      <td>40.0</td>\n",
              "      <td>43.580000</td>\n",
              "      <td>55.38</td>\n",
              "      <td>-21.35</td>\n",
              "      <td>-47.07</td>\n",
              "      <td>622.0</td>\n",
              "      <td>90.0</td>\n",
              "      <td>3.0</td>\n",
              "      <td>329.53</td>\n",
              "      <td>158.33</td>\n",
              "      <td>33.97</td>\n",
              "      <td>-320.33</td>\n",
              "      <td>45.65</td>\n",
              "      <td>261.0</td>\n",
              "      <td>1347.5</td>\n",
              "      <td>52.0</td>\n",
              "      <td>11.0</td>\n",
              "      <td>35.5</td>\n",
              "      <td>19.5</td>\n",
              "      <td>45.0</td>\n",
              "      <td>16.5</td>\n",
              "      <td>-24.46</td>\n",
              "      <td>-1.0</td>\n",
              "      <td>NaN</td>\n",
              "    </tr>\n",
              "    <tr>\n",
              "      <th>3</th>\n",
              "      <td>21.0</td>\n",
              "      <td>1500.0</td>\n",
              "      <td>80.0</td>\n",
              "      <td>80.0</td>\n",
              "      <td>36.720000</td>\n",
              "      <td>36.10</td>\n",
              "      <td>-21.35</td>\n",
              "      <td>-47.07</td>\n",
              "      <td>622.0</td>\n",
              "      <td>90.0</td>\n",
              "      <td>3.0</td>\n",
              "      <td>329.53</td>\n",
              "      <td>158.33</td>\n",
              "      <td>33.97</td>\n",
              "      <td>-320.33</td>\n",
              "      <td>45.65</td>\n",
              "      <td>261.0</td>\n",
              "      <td>1347.5</td>\n",
              "      <td>52.0</td>\n",
              "      <td>11.0</td>\n",
              "      <td>35.5</td>\n",
              "      <td>19.5</td>\n",
              "      <td>45.0</td>\n",
              "      <td>16.5</td>\n",
              "      <td>0.13</td>\n",
              "      <td>-1.0</td>\n",
              "      <td>NaN</td>\n",
              "    </tr>\n",
              "    <tr>\n",
              "      <th>4</th>\n",
              "      <td>21.0</td>\n",
              "      <td>1500.0</td>\n",
              "      <td>5.0</td>\n",
              "      <td>5.0</td>\n",
              "      <td>48.393333</td>\n",
              "      <td>16.28</td>\n",
              "      <td>-21.35</td>\n",
              "      <td>-47.07</td>\n",
              "      <td>622.0</td>\n",
              "      <td>90.0</td>\n",
              "      <td>3.0</td>\n",
              "      <td>329.53</td>\n",
              "      <td>158.33</td>\n",
              "      <td>33.97</td>\n",
              "      <td>-320.33</td>\n",
              "      <td>45.65</td>\n",
              "      <td>261.0</td>\n",
              "      <td>1347.5</td>\n",
              "      <td>52.0</td>\n",
              "      <td>11.0</td>\n",
              "      <td>35.5</td>\n",
              "      <td>19.5</td>\n",
              "      <td>45.0</td>\n",
              "      <td>16.5</td>\n",
              "      <td>0.15</td>\n",
              "      <td>-1.0</td>\n",
              "      <td>NaN</td>\n",
              "    </tr>\n",
              "  </tbody>\n",
              "</table>\n",
              "</div>"
            ],
            "text/plain": [
              "   temp_c  precipitation_mm  depth_midpoint_previous  depth_midpoint_current  \\\n",
              "0    21.0            1500.0                      5.0                     5.0   \n",
              "1    21.0            1500.0                     15.0                    15.0   \n",
              "2    21.0            1500.0                     40.0                    40.0   \n",
              "3    21.0            1500.0                     80.0                    80.0   \n",
              "4    21.0            1500.0                      5.0                     5.0   \n",
              "\n",
              "   soc_g_kg_previous  soc_mg_ha_previous  latitud  longitud  elevation  slope  \\\n",
              "0          48.393333               17.39   -21.35    -47.07      622.0   90.0   \n",
              "1          43.580000               15.57   -21.35    -47.07      622.0   90.0   \n",
              "2          43.580000               55.38   -21.35    -47.07      622.0   90.0   \n",
              "3          36.720000               36.10   -21.35    -47.07      622.0   90.0   \n",
              "4          48.393333               16.28   -21.35    -47.07      622.0   90.0   \n",
              "\n",
              "   slopeclass  aspect  hillshade  rougness     cwd   pt10  avg_percipitation  \\\n",
              "0         3.0  329.53     158.33     33.97 -320.33  45.65              261.0   \n",
              "1         3.0  329.53     158.33     33.97 -320.33  45.65              261.0   \n",
              "2         3.0  329.53     158.33     33.97 -320.33  45.65              261.0   \n",
              "3         3.0  329.53     158.33     33.97 -320.33  45.65              261.0   \n",
              "4         3.0  329.53     158.33     33.97 -320.33  45.65              261.0   \n",
              "\n",
              "   bd_avg  ph_avg  cat_avg  clay_avg  slit_avg  sand_avg  gridsoc_g_kg_avg  \\\n",
              "0  1347.5    52.0     11.0      35.5      19.5      45.0              16.5   \n",
              "1  1347.5    52.0     11.0      35.5      19.5      45.0              16.5   \n",
              "2  1347.5    52.0     11.0      35.5      19.5      45.0              16.5   \n",
              "3  1347.5    52.0     11.0      35.5      19.5      45.0              16.5   \n",
              "4  1347.5    52.0     11.0      35.5      19.5      45.0              16.5   \n",
              "\n",
              "   soc_change_mg  change_till fert_type  \n",
              "0           3.31         -1.0       NaN  \n",
              "1          -3.03         -1.0       NaN  \n",
              "2         -24.46         -1.0       NaN  \n",
              "3           0.13         -1.0       NaN  \n",
              "4           0.15         -1.0       NaN  "
            ]
          },
          "metadata": {
            "tags": []
          },
          "execution_count": 168
        }
      ]
    },
    {
      "cell_type": "code",
      "metadata": {
        "colab": {
          "base_uri": "https://localhost:8080/"
        },
        "id": "K8C6pcJ4--AO",
        "outputId": "94f12aeb-44b7-42db-e6fd-01e38d9fcc88"
      },
      "source": [
        "data_top = data_all[data_all['depth_midpoint_current']<=30]\r\n",
        "data_top.shape"
      ],
      "execution_count": 169,
      "outputs": [
        {
          "output_type": "execute_result",
          "data": {
            "text/plain": [
              "(1114, 27)"
            ]
          },
          "metadata": {
            "tags": []
          },
          "execution_count": 169
        }
      ]
    },
    {
      "cell_type": "code",
      "metadata": {
        "id": "JopQBCoaUmxZ"
      },
      "source": [
        ""
      ],
      "execution_count": null,
      "outputs": []
    },
    {
      "cell_type": "markdown",
      "metadata": {
        "id": "1eqstxGHUoo0"
      },
      "source": [
        "### 3.1.2 Target distribution"
      ]
    },
    {
      "cell_type": "code",
      "metadata": {
        "colab": {
          "base_uri": "https://localhost:8080/",
          "height": 359
        },
        "id": "pQfP567wMWCv",
        "outputId": "686e5543-089d-487f-b144-a9ff93f78621"
      },
      "source": [
        "print('data_top soc_change Mean: {}'.format(data_top['soc_change_mg'].mean()))\r\n",
        "print('data_top soc_change_mg Median: {}'.format(data_top['soc_change_mg'].median()))\r\n",
        "print('data_top soc_change_mg Max: {}'.format(data_top['soc_change_mg'].max()))\r\n",
        "print('data_top soc_change_mg Skew: {}'.format(data_top['soc_change_mg'].skew()))\r\n",
        "\r\n",
        "fig, (ax1, ax2, ax3) = plt.subplots(1, 3, figsize = (15,2))\r\n",
        "plt.subplots_adjust(left=None, bottom=5, right=None, top=6, wspace=None, hspace=None)\r\n",
        "\r\n",
        "sns.distplot(data_top['soc_change_mg'], hist=True, bins = 100, ax=ax1)\r\n",
        "probplot(data_top['soc_change_mg'], plot=ax2)\r\n",
        "data_top.boxplot('soc_change_mg', ax=ax3)\r\n",
        "\r\n",
        "ax1.set_xlabel('soc_change_mg', size=10, labelpad=8)\r\n",
        "ax2.set_xlabel('Theoretical Quantiles', size=10, labelpad=8)\r\n",
        "ax2.set_ylabel('Ordered Values', size=10, labelpad=8)\r\n",
        "\r\n",
        "ax1.set_title('Distribution of soc_change_mg in whole dataset', size=12, y=1.05)\r\n",
        "ax2.set_title('Price Plot', size=12, y=1.05)\r\n",
        "\r\n",
        "plt.show()"
      ],
      "execution_count": 170,
      "outputs": [
        {
          "output_type": "stream",
          "text": [
            "data_top soc_change Mean: -0.4475583482944305\n",
            "data_top soc_change_mg Median: 1.39\n",
            "data_top soc_change_mg Max: 165.0\n",
            "data_top soc_change_mg Skew: -5.049472884302139\n"
          ],
          "name": "stdout"
        },
        {
          "output_type": "stream",
          "text": [
            "/usr/local/lib/python3.7/dist-packages/seaborn/distributions.py:2557: FutureWarning: `distplot` is a deprecated function and will be removed in a future version. Please adapt your code to use either `displot` (a figure-level function with similar flexibility) or `histplot` (an axes-level function for histograms).\n",
            "  warnings.warn(msg, FutureWarning)\n"
          ],
          "name": "stderr"
        },
        {
          "output_type": "display_data",
          "data": {
            "image/png": "[encoded data removed]",
            "text/plain": [
              "<Figure size 1080x144 with 3 Axes>"
            ]
          },
          "metadata": {
            "tags": []
          }
        }
      ]
    },
    {
      "cell_type": "markdown",
      "metadata": {
        "id": "LebSEFChNPtZ"
      },
      "source": [
        "removing outliers"
      ]
    },
    {
      "cell_type": "code",
      "metadata": {
        "id": "NwU-lygQMV9q"
      },
      "source": [
        "#data_top = data_top.drop(index=data_top[(data_top['soc_change_mg'] < -200)].index)"
      ],
      "execution_count": 171,
      "outputs": []
    },
    {
      "cell_type": "code",
      "metadata": {
        "colab": {
          "base_uri": "https://localhost:8080/"
        },
        "id": "CVJ6l7sMCUMq",
        "outputId": "8b689b09-41fb-47de-a4aa-d1c1723b9601"
      },
      "source": [
        "data_till_top = data_top.dropna(subset =['change_till'], axis=0)\r\n",
        "data_till_top.shape"
      ],
      "execution_count": 172,
      "outputs": [
        {
          "output_type": "execute_result",
          "data": {
            "text/plain": [
              "(720, 27)"
            ]
          },
          "metadata": {
            "tags": []
          },
          "execution_count": 172
        }
      ]
    },
    {
      "cell_type": "code",
      "metadata": {
        "colab": {
          "base_uri": "https://localhost:8080/"
        },
        "id": "v19tY_2aC6PX",
        "outputId": "abf60d35-b6b3-451f-c6ff-0d95d1e9b225"
      },
      "source": [
        "data_tf_top = data_till_top.dropna(subset =['fert_type'], axis=0)\r\n",
        "data_tf_top.shape"
      ],
      "execution_count": 173,
      "outputs": [
        {
          "output_type": "execute_result",
          "data": {
            "text/plain": [
              "(185, 27)"
            ]
          },
          "metadata": {
            "tags": []
          },
          "execution_count": 173
        }
      ]
    },
    {
      "cell_type": "code",
      "metadata": {
        "colab": {
          "base_uri": "https://localhost:8080/"
        },
        "id": "69nV9nnCDO39",
        "outputId": "49d5b898-3e84-4ae3-9cb4-3a54c581face"
      },
      "source": [
        "data_fert_top = data_top.dropna(subset =['fert_type'], axis=0)\r\n",
        "data_fert_top.shape"
      ],
      "execution_count": 174,
      "outputs": [
        {
          "output_type": "execute_result",
          "data": {
            "text/plain": [
              "(388, 27)"
            ]
          },
          "metadata": {
            "tags": []
          },
          "execution_count": 174
        }
      ]
    },
    {
      "cell_type": "code",
      "metadata": {
        "id": "nbnRwy3eDfCP"
      },
      "source": [
        ""
      ],
      "execution_count": 174,
      "outputs": []
    },
    {
      "cell_type": "markdown",
      "metadata": {
        "id": "8JapGUciDecH"
      },
      "source": [
        "preparing dataset"
      ]
    },
    {
      "cell_type": "code",
      "metadata": {
        "id": "3YafkaVNDj6n"
      },
      "source": [
        ""
      ],
      "execution_count": 174,
      "outputs": []
    },
    {
      "cell_type": "code",
      "metadata": {
        "colab": {
          "base_uri": "https://localhost:8080/"
        },
        "id": "_vscW7nnDkmX",
        "outputId": "f1f39b30-f05e-4942-9524-23f3f869a93d"
      },
      "source": [
        "def display_missing(df):\r\n",
        "    \"\"\"shows the number of missing values of each column for a date_frame, if there is one\"\"\"\r\n",
        "    for col in df.columns.tolist():\r\n",
        "        if df[col].isnull().sum():\r\n",
        "            print('{} column missing values: {}/{}'.format(col, df[col].isnull().sum(), len(df)))\r\n",
        "    print ('Done checking for missing values')\r\n",
        "display_missing(data_till_top)"
      ],
      "execution_count": 175,
      "outputs": [
        {
          "output_type": "stream",
          "text": [
            "fert_type column missing values: 535/720\n",
            "Done checking for missing values\n"
          ],
          "name": "stdout"
        }
      ]
    },
    {
      "cell_type": "code",
      "metadata": {
        "id": "4t5--Xd2EPX3"
      },
      "source": [
        "data_till_top=data_till_top.drop(['fert_type', 'depth_midpoint_previous', 'soc_g_kg_previous'], axis=1,)"
      ],
      "execution_count": 176,
      "outputs": []
    },
    {
      "cell_type": "code",
      "metadata": {
        "colab": {
          "base_uri": "https://localhost:8080/"
        },
        "id": "IWukZM5LFTh3",
        "outputId": "eabe2fd8-8df5-4fab-b44a-84731c7cd1a5"
      },
      "source": [
        "data_till_top.shape"
      ],
      "execution_count": 177,
      "outputs": [
        {
          "output_type": "execute_result",
          "data": {
            "text/plain": [
              "(720, 24)"
            ]
          },
          "metadata": {
            "tags": []
          },
          "execution_count": 177
        }
      ]
    },
    {
      "cell_type": "code",
      "metadata": {
        "colab": {
          "base_uri": "https://localhost:8080/"
        },
        "id": "mQfwBTVkDkeQ",
        "outputId": "3b1a1a41-f8ce-4ceb-8378-70592b04e4f5"
      },
      "source": [
        "display_missing(data_fert_top)"
      ],
      "execution_count": 178,
      "outputs": [
        {
          "output_type": "stream",
          "text": [
            "change_till column missing values: 203/388\n",
            "Done checking for missing values\n"
          ],
          "name": "stdout"
        }
      ]
    },
    {
      "cell_type": "code",
      "metadata": {
        "id": "6dZL4b2rDkWA"
      },
      "source": [
        "data_fert_top=data_fert_top.drop(['change_till', 'depth_midpoint_previous', 'soc_g_kg_previous'], axis=1)"
      ],
      "execution_count": 179,
      "outputs": []
    },
    {
      "cell_type": "code",
      "metadata": {
        "colab": {
          "base_uri": "https://localhost:8080/"
        },
        "id": "h0HVc0z6FZPx",
        "outputId": "4bcc7b77-bd73-49e5-dce2-88a84cfd82b5"
      },
      "source": [
        "data_fert_top.shape"
      ],
      "execution_count": 180,
      "outputs": [
        {
          "output_type": "execute_result",
          "data": {
            "text/plain": [
              "(388, 24)"
            ]
          },
          "metadata": {
            "tags": []
          },
          "execution_count": 180
        }
      ]
    },
    {
      "cell_type": "markdown",
      "metadata": {
        "id": "00T3ggASFfu3"
      },
      "source": [
        "### 3.1.3 Model for no tillage, Linear Regression and Random Forest"
      ]
    },
    {
      "cell_type": "code",
      "metadata": {
        "colab": {
          "base_uri": "https://localhost:8080/"
        },
        "id": "8Zkirkg1Fjj3",
        "outputId": "de496cae-8e7c-4624-dc73-143513a24f11"
      },
      "source": [
        "y_till = data_till_top['soc_change_mg']\r\n",
        "data_till_top = data_till_top.drop(['soc_change_mg'], axis=1)\r\n",
        "data_till_top.shape"
      ],
      "execution_count": 181,
      "outputs": [
        {
          "output_type": "execute_result",
          "data": {
            "text/plain": [
              "(720, 23)"
            ]
          },
          "metadata": {
            "tags": []
          },
          "execution_count": 181
        }
      ]
    },
    {
      "cell_type": "code",
      "metadata": {
        "colab": {
          "base_uri": "https://localhost:8080/",
          "height": 224
        },
        "id": "ZXkMifk_HQaG",
        "outputId": "d7c856b2-5e6c-4de2-9635-a0a4ee359c6f"
      },
      "source": [
        "X_num=data_till_top\r\n",
        "transformer = StandardScaler().fit(X_num)\r\n",
        "x_standardized = transformer.transform(X_num)\r\n",
        "data_till_top_sc = pd.DataFrame(x_standardized)\r\n",
        "data_till_top_sc.columns = X_num.columns\r\n",
        "data_till_top_sc.head()"
      ],
      "execution_count": 182,
      "outputs": [
        {
          "output_type": "execute_result",
          "data": {
            "text/html": [
              "<div>\n",
              "<style scoped>\n",
              "    .dataframe tbody tr th:only-of-type {\n",
              "        vertical-align: middle;\n",
              "    }\n",
              "\n",
              "    .dataframe tbody tr th {\n",
              "        vertical-align: top;\n",
              "    }\n",
              "\n",
              "    .dataframe thead th {\n",
              "        text-align: right;\n",
              "    }\n",
              "</style>\n",
              "<table border=\"1\" class=\"dataframe\">\n",
              "  <thead>\n",
              "    <tr style=\"text-align: right;\">\n",
              "      <th></th>\n",
              "      <th>temp_c</th>\n",
              "      <th>precipitation_mm</th>\n",
              "      <th>depth_midpoint_current</th>\n",
              "      <th>soc_mg_ha_previous</th>\n",
              "      <th>latitud</th>\n",
              "      <th>longitud</th>\n",
              "      <th>elevation</th>\n",
              "      <th>slope</th>\n",
              "      <th>slopeclass</th>\n",
              "      <th>aspect</th>\n",
              "      <th>hillshade</th>\n",
              "      <th>rougness</th>\n",
              "      <th>cwd</th>\n",
              "      <th>pt10</th>\n",
              "      <th>avg_percipitation</th>\n",
              "      <th>bd_avg</th>\n",
              "      <th>ph_avg</th>\n",
              "      <th>cat_avg</th>\n",
              "      <th>clay_avg</th>\n",
              "      <th>slit_avg</th>\n",
              "      <th>sand_avg</th>\n",
              "      <th>gridsoc_g_kg_avg</th>\n",
              "      <th>change_till</th>\n",
              "    </tr>\n",
              "  </thead>\n",
              "  <tbody>\n",
              "    <tr>\n",
              "      <th>0</th>\n",
              "      <td>0.632063</td>\n",
              "      <td>0.454647</td>\n",
              "      <td>-1.373453</td>\n",
              "      <td>-0.452892</td>\n",
              "      <td>-1.301919</td>\n",
              "      <td>-0.622582</td>\n",
              "      <td>0.622359</td>\n",
              "      <td>0.482725</td>\n",
              "      <td>-0.095465</td>\n",
              "      <td>1.359841</td>\n",
              "      <td>1.4867</td>\n",
              "      <td>0.001462</td>\n",
              "      <td>-0.010855</td>\n",
              "      <td>-0.115881</td>\n",
              "      <td>1.25462</td>\n",
              "      <td>0.519338</td>\n",
              "      <td>-0.986877</td>\n",
              "      <td>-0.821885</td>\n",
              "      <td>1.083473</td>\n",
              "      <td>-0.750294</td>\n",
              "      <td>0.108363</td>\n",
              "      <td>-0.761258</td>\n",
              "      <td>-1.518079</td>\n",
              "    </tr>\n",
              "    <tr>\n",
              "      <th>1</th>\n",
              "      <td>0.632063</td>\n",
              "      <td>0.454647</td>\n",
              "      <td>0.025690</td>\n",
              "      <td>-0.470189</td>\n",
              "      <td>-1.301919</td>\n",
              "      <td>-0.622582</td>\n",
              "      <td>0.622359</td>\n",
              "      <td>0.482725</td>\n",
              "      <td>-0.095465</td>\n",
              "      <td>1.359841</td>\n",
              "      <td>1.4867</td>\n",
              "      <td>0.001462</td>\n",
              "      <td>-0.010855</td>\n",
              "      <td>-0.115881</td>\n",
              "      <td>1.25462</td>\n",
              "      <td>0.519338</td>\n",
              "      <td>-0.986877</td>\n",
              "      <td>-0.821885</td>\n",
              "      <td>1.083473</td>\n",
              "      <td>-0.750294</td>\n",
              "      <td>0.108363</td>\n",
              "      <td>-0.761258</td>\n",
              "      <td>-1.518079</td>\n",
              "    </tr>\n",
              "    <tr>\n",
              "      <th>2</th>\n",
              "      <td>0.632063</td>\n",
              "      <td>0.454647</td>\n",
              "      <td>-1.373453</td>\n",
              "      <td>-0.463442</td>\n",
              "      <td>-1.301919</td>\n",
              "      <td>-0.622582</td>\n",
              "      <td>0.622359</td>\n",
              "      <td>0.482725</td>\n",
              "      <td>-0.095465</td>\n",
              "      <td>1.359841</td>\n",
              "      <td>1.4867</td>\n",
              "      <td>0.001462</td>\n",
              "      <td>-0.010855</td>\n",
              "      <td>-0.115881</td>\n",
              "      <td>1.25462</td>\n",
              "      <td>0.519338</td>\n",
              "      <td>-0.986877</td>\n",
              "      <td>-0.821885</td>\n",
              "      <td>1.083473</td>\n",
              "      <td>-0.750294</td>\n",
              "      <td>0.108363</td>\n",
              "      <td>-0.761258</td>\n",
              "      <td>-1.518079</td>\n",
              "    </tr>\n",
              "    <tr>\n",
              "      <th>3</th>\n",
              "      <td>0.632063</td>\n",
              "      <td>0.454647</td>\n",
              "      <td>0.025690</td>\n",
              "      <td>-0.444624</td>\n",
              "      <td>-1.301919</td>\n",
              "      <td>-0.622582</td>\n",
              "      <td>0.622359</td>\n",
              "      <td>0.482725</td>\n",
              "      <td>-0.095465</td>\n",
              "      <td>1.359841</td>\n",
              "      <td>1.4867</td>\n",
              "      <td>0.001462</td>\n",
              "      <td>-0.010855</td>\n",
              "      <td>-0.115881</td>\n",
              "      <td>1.25462</td>\n",
              "      <td>0.519338</td>\n",
              "      <td>-0.986877</td>\n",
              "      <td>-0.821885</td>\n",
              "      <td>1.083473</td>\n",
              "      <td>-0.750294</td>\n",
              "      <td>0.108363</td>\n",
              "      <td>-0.761258</td>\n",
              "      <td>-1.518079</td>\n",
              "    </tr>\n",
              "    <tr>\n",
              "      <th>4</th>\n",
              "      <td>0.632063</td>\n",
              "      <td>0.454647</td>\n",
              "      <td>-1.373453</td>\n",
              "      <td>-0.489007</td>\n",
              "      <td>-1.301919</td>\n",
              "      <td>-0.622582</td>\n",
              "      <td>0.622359</td>\n",
              "      <td>0.482725</td>\n",
              "      <td>-0.095465</td>\n",
              "      <td>1.359841</td>\n",
              "      <td>1.4867</td>\n",
              "      <td>0.001462</td>\n",
              "      <td>-0.010855</td>\n",
              "      <td>-0.115881</td>\n",
              "      <td>1.25462</td>\n",
              "      <td>0.519338</td>\n",
              "      <td>-0.986877</td>\n",
              "      <td>-0.821885</td>\n",
              "      <td>1.083473</td>\n",
              "      <td>-0.750294</td>\n",
              "      <td>0.108363</td>\n",
              "      <td>-0.761258</td>\n",
              "      <td>-0.163659</td>\n",
              "    </tr>\n",
              "  </tbody>\n",
              "</table>\n",
              "</div>"
            ],
            "text/plain": [
              "     temp_c  precipitation_mm  depth_midpoint_current  soc_mg_ha_previous  \\\n",
              "0  0.632063          0.454647               -1.373453           -0.452892   \n",
              "1  0.632063          0.454647                0.025690           -0.470189   \n",
              "2  0.632063          0.454647               -1.373453           -0.463442   \n",
              "3  0.632063          0.454647                0.025690           -0.444624   \n",
              "4  0.632063          0.454647               -1.373453           -0.489007   \n",
              "\n",
              "    latitud  longitud  elevation     slope  slopeclass    aspect  hillshade  \\\n",
              "0 -1.301919 -0.622582   0.622359  0.482725   -0.095465  1.359841     1.4867   \n",
              "1 -1.301919 -0.622582   0.622359  0.482725   -0.095465  1.359841     1.4867   \n",
              "2 -1.301919 -0.622582   0.622359  0.482725   -0.095465  1.359841     1.4867   \n",
              "3 -1.301919 -0.622582   0.622359  0.482725   -0.095465  1.359841     1.4867   \n",
              "4 -1.301919 -0.622582   0.622359  0.482725   -0.095465  1.359841     1.4867   \n",
              "\n",
              "   rougness       cwd      pt10  avg_percipitation    bd_avg    ph_avg  \\\n",
              "0  0.001462 -0.010855 -0.115881            1.25462  0.519338 -0.986877   \n",
              "1  0.001462 -0.010855 -0.115881            1.25462  0.519338 -0.986877   \n",
              "2  0.001462 -0.010855 -0.115881            1.25462  0.519338 -0.986877   \n",
              "3  0.001462 -0.010855 -0.115881            1.25462  0.519338 -0.986877   \n",
              "4  0.001462 -0.010855 -0.115881            1.25462  0.519338 -0.986877   \n",
              "\n",
              "    cat_avg  clay_avg  slit_avg  sand_avg  gridsoc_g_kg_avg  change_till  \n",
              "0 -0.821885  1.083473 -0.750294  0.108363         -0.761258    -1.518079  \n",
              "1 -0.821885  1.083473 -0.750294  0.108363         -0.761258    -1.518079  \n",
              "2 -0.821885  1.083473 -0.750294  0.108363         -0.761258    -1.518079  \n",
              "3 -0.821885  1.083473 -0.750294  0.108363         -0.761258    -1.518079  \n",
              "4 -0.821885  1.083473 -0.750294  0.108363         -0.761258    -0.163659  "
            ]
          },
          "metadata": {
            "tags": []
          },
          "execution_count": 182
        }
      ]
    },
    {
      "cell_type": "code",
      "metadata": {
        "id": "LtTyuKfGH0Nf"
      },
      "source": [
        "from sklearn.model_selection import train_test_split\r\n",
        "X_train, X_test, y_train, y_test = train_test_split(data_till_top, y_till, test_size=0.3, random_state=1)"
      ],
      "execution_count": 183,
      "outputs": []
    },
    {
      "cell_type": "code",
      "metadata": {
        "colab": {
          "base_uri": "https://localhost:8080/"
        },
        "id": "JXbCtWcjIYTf",
        "outputId": "7ff65317-a757-4268-cb0f-f735b07366f6"
      },
      "source": [
        "lm = linear_model.LinearRegression()\r\n",
        "lr_1 = lm.fit(X_train,y_train)\r\n",
        "predictions_1  = lm.predict(X_test)\r\n",
        "r2_score(y_test, predictions_1)"
      ],
      "execution_count": 184,
      "outputs": [
        {
          "output_type": "execute_result",
          "data": {
            "text/plain": [
              "0.46779436255343687"
            ]
          },
          "metadata": {
            "tags": []
          },
          "execution_count": 184
        }
      ]
    },
    {
      "cell_type": "code",
      "metadata": {
        "id": "9I7-lIw-IYMI"
      },
      "source": [
        "# Import the model we are using\r\n",
        "from sklearn.ensemble import RandomForestRegressor\r\n",
        "# Instantiate model with 1000 decision trees\r\n",
        "rf_till = RandomForestRegressor(n_estimators = 1000, random_state = 1)\r\n",
        "# Train the model on training data\r\n",
        "rf_till.fit(X_train, y_train)\r\n",
        "pred_rf_till = rf_till.predict(X_test)"
      ],
      "execution_count": 185,
      "outputs": []
    },
    {
      "cell_type": "markdown",
      "metadata": {
        "id": "AbbsMOkHVH3k"
      },
      "source": [
        "# 4. Model Validation"
      ]
    },
    {
      "cell_type": "code",
      "metadata": {
        "id": "jhJyywX1IYI_"
      },
      "source": [
        "import sklearn.metrics as metrics\r\n",
        "\r\n",
        "def regression_results(dic_of_models, y_true):\r\n",
        "    '''returns a dataframe with 'Model', 'expl_variance', 'r2', 'MAE', 'MSE', 'RMSE',\r\n",
        "    need the dictionary of key='modelname', value=prediction, X_test, y_test as attributes'''\r\n",
        "    model_val = pd.DataFrame(columns =['Model', 'expl_variance', 'r2', 'MAE', 'MSE', 'RMSE'])\r\n",
        "    # Regression metrics\r\n",
        "    for key, y_pred in dic_of_models.items():\r\n",
        "        explained_variance=metrics.explained_variance_score(y_true, y_pred)\r\n",
        "        mean_absolute_error=metrics.mean_absolute_error(y_true, y_pred) \r\n",
        "        mse=metrics.mean_squared_error(y_true, y_pred) \r\n",
        "        median_absolute_error=metrics.median_absolute_error(y_true, y_pred)\r\n",
        "        r2=metrics.r2_score(y_true, y_pred)\r\n",
        "        val_list = [key, \r\n",
        "                explained_variance,\r\n",
        "                round(r2,4),\r\n",
        "                round(mean_absolute_error,4),\r\n",
        "                round(mse,4),\r\n",
        "                round(np.sqrt(mse),4)]\r\n",
        "        v_series = pd.Series(val_list, index = model_val.columns)\r\n",
        "        model_val = model_val.append(v_series, ignore_index=True)\r\n",
        "    return model_val"
      ],
      "execution_count": 186,
      "outputs": []
    },
    {
      "cell_type": "code",
      "metadata": {
        "id": "XEpHShMkJqlx"
      },
      "source": [
        "model_dic = {'lm_till': predictions_1,\r\n",
        "             'randomforest_1_till' : pred_rf_till,\r\n",
        "             }"
      ],
      "execution_count": 187,
      "outputs": []
    },
    {
      "cell_type": "code",
      "metadata": {
        "colab": {
          "base_uri": "https://localhost:8080/",
          "height": 111
        },
        "id": "sPt9w3cYJqif",
        "outputId": "ec437c13-a331-451b-f870-d27f54f2ac75"
      },
      "source": [
        "regression_results(model_dic, y_test)"
      ],
      "execution_count": 188,
      "outputs": [
        {
          "output_type": "execute_result",
          "data": {
            "text/html": [
              "<div>\n",
              "<style scoped>\n",
              "    .dataframe tbody tr th:only-of-type {\n",
              "        vertical-align: middle;\n",
              "    }\n",
              "\n",
              "    .dataframe tbody tr th {\n",
              "        vertical-align: top;\n",
              "    }\n",
              "\n",
              "    .dataframe thead th {\n",
              "        text-align: right;\n",
              "    }\n",
              "</style>\n",
              "<table border=\"1\" class=\"dataframe\">\n",
              "  <thead>\n",
              "    <tr style=\"text-align: right;\">\n",
              "      <th></th>\n",
              "      <th>Model</th>\n",
              "      <th>expl_variance</th>\n",
              "      <th>r2</th>\n",
              "      <th>MAE</th>\n",
              "      <th>MSE</th>\n",
              "      <th>RMSE</th>\n",
              "    </tr>\n",
              "  </thead>\n",
              "  <tbody>\n",
              "    <tr>\n",
              "      <th>0</th>\n",
              "      <td>lm_till</td>\n",
              "      <td>0.468246</td>\n",
              "      <td>0.4678</td>\n",
              "      <td>29.5229</td>\n",
              "      <td>2391.4245</td>\n",
              "      <td>48.9022</td>\n",
              "    </tr>\n",
              "    <tr>\n",
              "      <th>1</th>\n",
              "      <td>randomforest_1_till</td>\n",
              "      <td>0.615606</td>\n",
              "      <td>0.6156</td>\n",
              "      <td>11.9737</td>\n",
              "      <td>1727.2634</td>\n",
              "      <td>41.5604</td>\n",
              "    </tr>\n",
              "  </tbody>\n",
              "</table>\n",
              "</div>"
            ],
            "text/plain": [
              "                 Model  expl_variance      r2      MAE        MSE     RMSE\n",
              "0              lm_till       0.468246  0.4678  29.5229  2391.4245  48.9022\n",
              "1  randomforest_1_till       0.615606  0.6156  11.9737  1727.2634  41.5604"
            ]
          },
          "metadata": {
            "tags": []
          },
          "execution_count": 188
        }
      ]
    },
    {
      "cell_type": "code",
      "metadata": {
        "id": "U7t_SdhxJqfI"
      },
      "source": [
        ""
      ],
      "execution_count": 188,
      "outputs": []
    },
    {
      "cell_type": "code",
      "metadata": {
        "id": "gt-UUCFIJqcJ"
      },
      "source": [
        "def plot_errors(y, y_pred):\r\n",
        "    \r\n",
        "    \r\n",
        " #   fig, (ax1, ax2) = plt.subplots(1, 2, figsize = (15,4))\r\n",
        "  #  plt.subplots_adjust(left=None, bottom=5, right=None, top=6, wspace=None, hspace=None)\r\n",
        "    fig, ax = plt.subplots()\r\n",
        "    sns.set(color_codes=True)\r\n",
        "    sns.set(rc={'figure.figsize':(10, 10)})\r\n",
        "    plt.ylabel(\"Predicted SOC_change\")\r\n",
        "    plt.title(\"Test set: Predictions against real values\")\r\n",
        "    X_plot = np.linspace(-300, 50, 50)\r\n",
        "    Y_plot = X_plot\r\n",
        "    sns.regplot(x=y, y=y_pred, fit_reg=False, ax=ax,scatter_kws={\"color\": \"blue\", \"s\":5})\r\n",
        "    plt.plot(X_plot, Y_plot, color='r',linewidth=4.)\r\n",
        "    plt.show()\r\n",
        "    \r\n",
        "    sns.displot(y-y_pred, kde=True, ax=ax2)\r\n",
        "    plt.title(\"Train set: Distribution of residuals\")\r\n",
        "    plt.show()"
      ],
      "execution_count": 193,
      "outputs": []
    },
    {
      "cell_type": "code",
      "metadata": {
        "colab": {
          "base_uri": "https://localhost:8080/",
          "height": 1000
        },
        "id": "JXMUME7GJqYY",
        "outputId": "77a8bf82-5a62-4a46-90ef-798b0b621cf7"
      },
      "source": [
        "plot_errors(y_test, pred_rf_till )"
      ],
      "execution_count": 194,
      "outputs": [
        {
          "output_type": "display_data",
          "data": {
            "image/png": "[encoded data removed]",
            "text/plain": [
              "<Figure size 720x720 with 1 Axes>"
            ]
          },
          "metadata": {
            "tags": []
          }
        },
        {
          "output_type": "stream",
          "text": [
            "/usr/local/lib/python3.7/dist-packages/seaborn/distributions.py:2164: UserWarning: `displot` is a figure-level function and does not accept the ax= paramter. You may wish to try histplot.\n",
            "  warnings.warn(msg, UserWarning)\n"
          ],
          "name": "stderr"
        },
        {
          "output_type": "display_data",
          "data": {
            "image/png": "[encoded data removed]",
            "text/plain": [
              "<Figure size 360x360 with 1 Axes>"
            ]
          },
          "metadata": {
            "tags": []
          }
        }
      ]
    },
    {
      "cell_type": "code",
      "metadata": {
        "colab": {
          "base_uri": "https://localhost:8080/"
        },
        "id": "qIm5gRRLQLnV",
        "outputId": "5c175c04-2493-41f0-c037-9427b0000d4a"
      },
      "source": [
        "import statsmodels.api as sm\r\n",
        "\r\n",
        "ols=sm.add_constant(X_train)\r\n",
        "mod = sm.OLS(y_train, ols)\r\n",
        "res = mod.fit()\r\n",
        "\r\n",
        "print(res.summary())"
      ],
      "execution_count": 196,
      "outputs": [
        {
          "output_type": "stream",
          "text": [
            "                            OLS Regression Results                            \n",
            "==============================================================================\n",
            "Dep. Variable:          soc_change_mg   R-squared:                       0.521\n",
            "Model:                            OLS   Adj. R-squared:                  0.499\n",
            "Method:                 Least Squares   F-statistic:                     23.82\n",
            "Date:                Wed, 10 Mar 2021   Prob (F-statistic):           3.74e-63\n",
            "Time:                        22:28:46   Log-Likelihood:                -2517.0\n",
            "No. Observations:                 504   AIC:                             5080.\n",
            "Df Residuals:                     481   BIC:                             5177.\n",
            "Df Model:                          22                                         \n",
            "Covariance Type:            nonrobust                                         \n",
            "==========================================================================================\n",
            "                             coef    std err          t      P>|t|      [0.025      0.975]\n",
            "------------------------------------------------------------------------------------------\n",
            "const                      0.0620      0.014      4.336      0.000       0.034       0.090\n",
            "temp_c                    -0.4924      0.639     -0.770      0.441      -1.748       0.764\n",
            "precipitation_mm           0.0031      0.006      0.503      0.615      -0.009       0.015\n",
            "depth_midpoint_current    -0.1419      0.247     -0.574      0.566      -0.628       0.344\n",
            "soc_mg_ha_previous        -0.1715      0.021     -8.161      0.000      -0.213      -0.130\n",
            "latitud                    0.3862      0.135      2.863      0.004       0.121       0.651\n",
            "longitud                   0.0366      0.041      0.885      0.377      -0.045       0.118\n",
            "elevation                  0.0361      0.007      5.487      0.000       0.023       0.049\n",
            "slope                      0.0322      0.057      0.567      0.571      -0.080       0.144\n",
            "slopeclass                 5.0933      1.717      2.966      0.003       1.719       8.467\n",
            "aspect                    -0.0415      0.034     -1.215      0.225      -0.109       0.026\n",
            "hillshade                 -0.0311      0.062     -0.503      0.615      -0.152       0.090\n",
            "rougness                  -0.3333      0.051     -6.530      0.000      -0.434      -0.233\n",
            "cwd                       -0.0087      0.011     -0.806      0.420      -0.030       0.013\n",
            "pt10                       0.8634      0.220      3.916      0.000       0.430       1.297\n",
            "avg_percipitation         -0.2575      0.043     -6.050      0.000      -0.341      -0.174\n",
            "bd_avg                    -0.1410      0.029     -4.923      0.000      -0.197      -0.085\n",
            "ph_avg                     1.0739      0.418      2.570      0.010       0.253       1.895\n",
            "cat_avg                   -4.9423      0.439    -11.251      0.000      -5.805      -4.079\n",
            "clay_avg                   3.5909      0.616      5.829      0.000       2.380       4.801\n",
            "slit_avg                   1.2078      0.487      2.482      0.013       0.252       2.164\n",
            "sand_avg                   1.3973      0.449      3.112      0.002       0.515       2.280\n",
            "gridsoc_g_kg_avg          -0.0616      0.141     -0.438      0.662      -0.338       0.215\n",
            "change_till                1.8890      3.619      0.522      0.602      -5.222       9.000\n",
            "==============================================================================\n",
            "Omnibus:                      137.724   Durbin-Watson:                   2.050\n",
            "Prob(Omnibus):                  0.000   Jarque-Bera (JB):             1573.226\n",
            "Skew:                          -0.834   Prob(JB):                         0.00\n",
            "Kurtosis:                      11.493   Cond. No.                     5.16e+18\n",
            "==============================================================================\n",
            "\n",
            "Warnings:\n",
            "[1] Standard Errors assume that the covariance matrix of the errors is correctly specified.\n",
            "[2] The smallest eigenvalue is 6.93e-29. This might indicate that there are\n",
            "strong multicollinearity problems or that the design matrix is singular.\n"
          ],
          "name": "stdout"
        }
      ]
    },
    {
      "cell_type": "code",
      "metadata": {
        "colab": {
          "base_uri": "https://localhost:8080/",
          "height": 1000
        },
        "id": "wmzoeZBlQLhd",
        "outputId": "4aa122ad-7bda-4983-f90e-69eff68c4716"
      },
      "source": [
        "importance = rf_till.feature_importances_\r\n",
        "# summarize feature importance\r\n",
        "for i,v in enumerate(importance):\r\n",
        "\tprint('Feature: %0d, Score: %.5f' % (i,v))\r\n",
        "# plot feature importance\r\n",
        "sns.barplot([x for x in range(len(importance))], importance)"
      ],
      "execution_count": 198,
      "outputs": [
        {
          "output_type": "stream",
          "text": [
            "Feature: 0, Score: 0.01382\n",
            "Feature: 1, Score: 0.37890\n",
            "Feature: 2, Score: 0.03590\n",
            "Feature: 3, Score: 0.21177\n",
            "Feature: 4, Score: 0.02282\n",
            "Feature: 5, Score: 0.01547\n",
            "Feature: 6, Score: 0.01989\n",
            "Feature: 7, Score: 0.01259\n",
            "Feature: 8, Score: 0.00931\n",
            "Feature: 9, Score: 0.00870\n",
            "Feature: 10, Score: 0.00737\n",
            "Feature: 11, Score: 0.01841\n",
            "Feature: 12, Score: 0.02997\n",
            "Feature: 13, Score: 0.06809\n",
            "Feature: 14, Score: 0.02840\n",
            "Feature: 15, Score: 0.01574\n",
            "Feature: 16, Score: 0.01233\n",
            "Feature: 17, Score: 0.01671\n",
            "Feature: 18, Score: 0.02785\n",
            "Feature: 19, Score: 0.00888\n",
            "Feature: 20, Score: 0.01367\n",
            "Feature: 21, Score: 0.02103\n",
            "Feature: 22, Score: 0.00238\n"
          ],
          "name": "stdout"
        },
        {
          "output_type": "stream",
          "text": [
            "/usr/local/lib/python3.7/dist-packages/seaborn/_decorators.py:43: FutureWarning: Pass the following variables as keyword args: x, y. From version 0.12, the only valid positional argument will be `data`, and passing other arguments without an explicit keyword will result in an error or misinterpretation.\n",
            "  FutureWarning\n"
          ],
          "name": "stderr"
        },
        {
          "output_type": "execute_result",
          "data": {
            "text/plain": [
              "<matplotlib.axes._subplots.AxesSubplot at 0x7f92cda29410>"
            ]
          },
          "metadata": {
            "tags": []
          },
          "execution_count": 198
        },
        {
          "output_type": "display_data",
          "data": {
            "image/png": "[encoded data removed]",
            "text/plain": [
              "<Figure size 720x720 with 1 Axes>"
            ]
          },
          "metadata": {
            "tags": []
          }
        }
      ]
    },
    {
      "cell_type": "code",
      "metadata": {
        "id": "Dve7i2Z_QLZ2"
      },
      "source": [
        ""
      ],
      "execution_count": null,
      "outputs": []
    }
  ]
}